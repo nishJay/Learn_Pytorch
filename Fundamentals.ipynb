{
 "cells": [
  {
   "cell_type": "code",
   "execution_count": 1,
   "id": "13663758",
   "metadata": {
    "execution": {
     "iopub.execute_input": "2024-06-24T14:24:42.877386Z",
     "iopub.status.busy": "2024-06-24T14:24:42.876866Z",
     "iopub.status.idle": "2024-06-24T14:24:47.279624Z",
     "shell.execute_reply": "2024-06-24T14:24:47.278280Z"
    },
    "papermill": {
     "duration": 4.416036,
     "end_time": "2024-06-24T14:24:47.283856",
     "exception": false,
     "start_time": "2024-06-24T14:24:42.867820",
     "status": "completed"
    },
    "tags": []
   },
   "outputs": [
    {
     "name": "stdout",
     "output_type": "stream",
     "text": [
      "2.1.2+cpu\n"
     ]
    }
   ],
   "source": [
    "import torch \n",
    "print(torch.__version__)"
   ]
  },
  {
   "cell_type": "markdown",
   "id": "387d7938",
   "metadata": {
    "papermill": {
     "duration": 0.006793,
     "end_time": "2024-06-24T14:24:47.299057",
     "exception": false,
     "start_time": "2024-06-24T14:24:47.292264",
     "status": "completed"
    },
    "tags": []
   },
   "source": [
    "## Creating Tensors"
   ]
  },
  {
   "cell_type": "code",
   "execution_count": 2,
   "id": "b5ee43cc",
   "metadata": {
    "execution": {
     "iopub.execute_input": "2024-06-24T14:24:47.316413Z",
     "iopub.status.busy": "2024-06-24T14:24:47.315670Z",
     "iopub.status.idle": "2024-06-24T14:24:47.372778Z",
     "shell.execute_reply": "2024-06-24T14:24:47.371441Z"
    },
    "papermill": {
     "duration": 0.069291,
     "end_time": "2024-06-24T14:24:47.375780",
     "exception": false,
     "start_time": "2024-06-24T14:24:47.306489",
     "status": "completed"
    },
    "tags": []
   },
   "outputs": [
    {
     "data": {
      "text/plain": [
       "tensor(7)"
      ]
     },
     "execution_count": 2,
     "metadata": {},
     "output_type": "execute_result"
    }
   ],
   "source": [
    "scalar = torch.tensor(7)\n",
    "scalar"
   ]
  },
  {
   "cell_type": "code",
   "execution_count": 3,
   "id": "419c3be2",
   "metadata": {
    "execution": {
     "iopub.execute_input": "2024-06-24T14:24:47.393668Z",
     "iopub.status.busy": "2024-06-24T14:24:47.393124Z",
     "iopub.status.idle": "2024-06-24T14:24:47.402170Z",
     "shell.execute_reply": "2024-06-24T14:24:47.400815Z"
    },
    "papermill": {
     "duration": 0.021703,
     "end_time": "2024-06-24T14:24:47.405090",
     "exception": false,
     "start_time": "2024-06-24T14:24:47.383387",
     "status": "completed"
    },
    "tags": []
   },
   "outputs": [
    {
     "data": {
      "text/plain": [
       "0"
      ]
     },
     "execution_count": 3,
     "metadata": {},
     "output_type": "execute_result"
    }
   ],
   "source": [
    "scalar.ndim"
   ]
  },
  {
   "cell_type": "code",
   "execution_count": 4,
   "id": "ceb737cb",
   "metadata": {
    "execution": {
     "iopub.execute_input": "2024-06-24T14:24:47.423264Z",
     "iopub.status.busy": "2024-06-24T14:24:47.422738Z",
     "iopub.status.idle": "2024-06-24T14:24:47.431355Z",
     "shell.execute_reply": "2024-06-24T14:24:47.430081Z"
    },
    "papermill": {
     "duration": 0.020999,
     "end_time": "2024-06-24T14:24:47.434233",
     "exception": false,
     "start_time": "2024-06-24T14:24:47.413234",
     "status": "completed"
    },
    "tags": []
   },
   "outputs": [
    {
     "data": {
      "text/plain": [
       "7"
      ]
     },
     "execution_count": 4,
     "metadata": {},
     "output_type": "execute_result"
    }
   ],
   "source": [
    "scalar.item()"
   ]
  },
  {
   "cell_type": "code",
   "execution_count": 5,
   "id": "64697276",
   "metadata": {
    "execution": {
     "iopub.execute_input": "2024-06-24T14:24:47.453031Z",
     "iopub.status.busy": "2024-06-24T14:24:47.452479Z",
     "iopub.status.idle": "2024-06-24T14:24:47.465114Z",
     "shell.execute_reply": "2024-06-24T14:24:47.463643Z"
    },
    "papermill": {
     "duration": 0.025175,
     "end_time": "2024-06-24T14:24:47.467838",
     "exception": false,
     "start_time": "2024-06-24T14:24:47.442663",
     "status": "completed"
    },
    "tags": []
   },
   "outputs": [
    {
     "data": {
      "text/plain": [
       "tensor([7, 7])"
      ]
     },
     "execution_count": 5,
     "metadata": {},
     "output_type": "execute_result"
    }
   ],
   "source": [
    "vector = torch.tensor([7,7])\n",
    "vector"
   ]
  },
  {
   "cell_type": "code",
   "execution_count": 6,
   "id": "f03184e3",
   "metadata": {
    "execution": {
     "iopub.execute_input": "2024-06-24T14:24:47.485160Z",
     "iopub.status.busy": "2024-06-24T14:24:47.484641Z",
     "iopub.status.idle": "2024-06-24T14:24:47.493571Z",
     "shell.execute_reply": "2024-06-24T14:24:47.492257Z"
    },
    "papermill": {
     "duration": 0.020876,
     "end_time": "2024-06-24T14:24:47.496176",
     "exception": false,
     "start_time": "2024-06-24T14:24:47.475300",
     "status": "completed"
    },
    "tags": []
   },
   "outputs": [
    {
     "data": {
      "text/plain": [
       "1"
      ]
     },
     "execution_count": 6,
     "metadata": {},
     "output_type": "execute_result"
    }
   ],
   "source": [
    "vector.ndim"
   ]
  },
  {
   "cell_type": "code",
   "execution_count": 7,
   "id": "e2e980b7",
   "metadata": {
    "execution": {
     "iopub.execute_input": "2024-06-24T14:24:47.513749Z",
     "iopub.status.busy": "2024-06-24T14:24:47.513186Z",
     "iopub.status.idle": "2024-06-24T14:24:47.521733Z",
     "shell.execute_reply": "2024-06-24T14:24:47.520306Z"
    },
    "papermill": {
     "duration": 0.020745,
     "end_time": "2024-06-24T14:24:47.524695",
     "exception": false,
     "start_time": "2024-06-24T14:24:47.503950",
     "status": "completed"
    },
    "tags": []
   },
   "outputs": [
    {
     "data": {
      "text/plain": [
       "torch.Size([2])"
      ]
     },
     "execution_count": 7,
     "metadata": {},
     "output_type": "execute_result"
    }
   ],
   "source": [
    "vector.shape"
   ]
  },
  {
   "cell_type": "code",
   "execution_count": 8,
   "id": "ca7db00e",
   "metadata": {
    "execution": {
     "iopub.execute_input": "2024-06-24T14:24:47.543356Z",
     "iopub.status.busy": "2024-06-24T14:24:47.542891Z",
     "iopub.status.idle": "2024-06-24T14:24:47.549525Z",
     "shell.execute_reply": "2024-06-24T14:24:47.548079Z"
    },
    "papermill": {
     "duration": 0.019785,
     "end_time": "2024-06-24T14:24:47.552751",
     "exception": false,
     "start_time": "2024-06-24T14:24:47.532966",
     "status": "completed"
    },
    "tags": []
   },
   "outputs": [],
   "source": [
    "matrix = torch.tensor([[7,8],[9,10]])"
   ]
  },
  {
   "cell_type": "code",
   "execution_count": 9,
   "id": "3555607e",
   "metadata": {
    "execution": {
     "iopub.execute_input": "2024-06-24T14:24:47.571224Z",
     "iopub.status.busy": "2024-06-24T14:24:47.570723Z",
     "iopub.status.idle": "2024-06-24T14:24:47.579293Z",
     "shell.execute_reply": "2024-06-24T14:24:47.577914Z"
    },
    "papermill": {
     "duration": 0.021068,
     "end_time": "2024-06-24T14:24:47.582030",
     "exception": false,
     "start_time": "2024-06-24T14:24:47.560962",
     "status": "completed"
    },
    "tags": []
   },
   "outputs": [
    {
     "data": {
      "text/plain": [
       "2"
      ]
     },
     "execution_count": 9,
     "metadata": {},
     "output_type": "execute_result"
    }
   ],
   "source": [
    "matrix.ndim"
   ]
  },
  {
   "cell_type": "code",
   "execution_count": 10,
   "id": "c59971e9",
   "metadata": {
    "execution": {
     "iopub.execute_input": "2024-06-24T14:24:47.600172Z",
     "iopub.status.busy": "2024-06-24T14:24:47.599635Z",
     "iopub.status.idle": "2024-06-24T14:24:47.607962Z",
     "shell.execute_reply": "2024-06-24T14:24:47.606548Z"
    },
    "papermill": {
     "duration": 0.020859,
     "end_time": "2024-06-24T14:24:47.611004",
     "exception": false,
     "start_time": "2024-06-24T14:24:47.590145",
     "status": "completed"
    },
    "tags": []
   },
   "outputs": [
    {
     "data": {
      "text/plain": [
       "torch.Size([2, 2])"
      ]
     },
     "execution_count": 10,
     "metadata": {},
     "output_type": "execute_result"
    }
   ],
   "source": [
    "matrix.shape"
   ]
  },
  {
   "cell_type": "code",
   "execution_count": 11,
   "id": "effe153a",
   "metadata": {
    "execution": {
     "iopub.execute_input": "2024-06-24T14:24:47.629996Z",
     "iopub.status.busy": "2024-06-24T14:24:47.629577Z",
     "iopub.status.idle": "2024-06-24T14:24:47.638602Z",
     "shell.execute_reply": "2024-06-24T14:24:47.637273Z"
    },
    "papermill": {
     "duration": 0.022113,
     "end_time": "2024-06-24T14:24:47.641712",
     "exception": false,
     "start_time": "2024-06-24T14:24:47.619599",
     "status": "completed"
    },
    "tags": []
   },
   "outputs": [
    {
     "data": {
      "text/plain": [
       "tensor([ 9, 10])"
      ]
     },
     "execution_count": 11,
     "metadata": {},
     "output_type": "execute_result"
    }
   ],
   "source": [
    "matrix[1]"
   ]
  },
  {
   "cell_type": "code",
   "execution_count": 12,
   "id": "061612d2",
   "metadata": {
    "execution": {
     "iopub.execute_input": "2024-06-24T14:24:47.660849Z",
     "iopub.status.busy": "2024-06-24T14:24:47.660091Z",
     "iopub.status.idle": "2024-06-24T14:24:47.670338Z",
     "shell.execute_reply": "2024-06-24T14:24:47.669053Z"
    },
    "papermill": {
     "duration": 0.023023,
     "end_time": "2024-06-24T14:24:47.673174",
     "exception": false,
     "start_time": "2024-06-24T14:24:47.650151",
     "status": "completed"
    },
    "tags": []
   },
   "outputs": [
    {
     "data": {
      "text/plain": [
       "tensor([7, 8])"
      ]
     },
     "execution_count": 12,
     "metadata": {},
     "output_type": "execute_result"
    }
   ],
   "source": [
    "matrix[0]"
   ]
  },
  {
   "cell_type": "code",
   "execution_count": 13,
   "id": "1c753f8b",
   "metadata": {
    "execution": {
     "iopub.execute_input": "2024-06-24T14:24:47.691812Z",
     "iopub.status.busy": "2024-06-24T14:24:47.691422Z",
     "iopub.status.idle": "2024-06-24T14:24:47.699942Z",
     "shell.execute_reply": "2024-06-24T14:24:47.698590Z"
    },
    "papermill": {
     "duration": 0.020898,
     "end_time": "2024-06-24T14:24:47.702716",
     "exception": false,
     "start_time": "2024-06-24T14:24:47.681818",
     "status": "completed"
    },
    "tags": []
   },
   "outputs": [
    {
     "data": {
      "text/plain": [
       "tensor(7)"
      ]
     },
     "execution_count": 13,
     "metadata": {},
     "output_type": "execute_result"
    }
   ],
   "source": [
    "matrix[0][0]"
   ]
  },
  {
   "cell_type": "code",
   "execution_count": 14,
   "id": "7834f788",
   "metadata": {
    "execution": {
     "iopub.execute_input": "2024-06-24T14:24:47.723442Z",
     "iopub.status.busy": "2024-06-24T14:24:47.722846Z",
     "iopub.status.idle": "2024-06-24T14:24:47.731842Z",
     "shell.execute_reply": "2024-06-24T14:24:47.730313Z"
    },
    "papermill": {
     "duration": 0.023408,
     "end_time": "2024-06-24T14:24:47.735129",
     "exception": false,
     "start_time": "2024-06-24T14:24:47.711721",
     "status": "completed"
    },
    "tags": []
   },
   "outputs": [
    {
     "data": {
      "text/plain": [
       "tensor(9)"
      ]
     },
     "execution_count": 14,
     "metadata": {},
     "output_type": "execute_result"
    }
   ],
   "source": [
    "matrix[1][0]"
   ]
  },
  {
   "cell_type": "code",
   "execution_count": 15,
   "id": "e0ec6d11",
   "metadata": {
    "execution": {
     "iopub.execute_input": "2024-06-24T14:24:47.757003Z",
     "iopub.status.busy": "2024-06-24T14:24:47.756505Z",
     "iopub.status.idle": "2024-06-24T14:24:47.763613Z",
     "shell.execute_reply": "2024-06-24T14:24:47.762158Z"
    },
    "papermill": {
     "duration": 0.021614,
     "end_time": "2024-06-24T14:24:47.766356",
     "exception": false,
     "start_time": "2024-06-24T14:24:47.744742",
     "status": "completed"
    },
    "tags": []
   },
   "outputs": [],
   "source": [
    "TENSOR = torch.tensor([[[2,3,1],[4,5,1],[6,7,1]]])"
   ]
  },
  {
   "cell_type": "code",
   "execution_count": 16,
   "id": "2670af40",
   "metadata": {
    "execution": {
     "iopub.execute_input": "2024-06-24T14:24:47.787813Z",
     "iopub.status.busy": "2024-06-24T14:24:47.786335Z",
     "iopub.status.idle": "2024-06-24T14:24:47.795429Z",
     "shell.execute_reply": "2024-06-24T14:24:47.793951Z"
    },
    "papermill": {
     "duration": 0.022598,
     "end_time": "2024-06-24T14:24:47.798177",
     "exception": false,
     "start_time": "2024-06-24T14:24:47.775579",
     "status": "completed"
    },
    "tags": []
   },
   "outputs": [
    {
     "data": {
      "text/plain": [
       "3"
      ]
     },
     "execution_count": 16,
     "metadata": {},
     "output_type": "execute_result"
    }
   ],
   "source": [
    "TENSOR.ndim"
   ]
  },
  {
   "cell_type": "code",
   "execution_count": 17,
   "id": "ca92a564",
   "metadata": {
    "execution": {
     "iopub.execute_input": "2024-06-24T14:24:47.820931Z",
     "iopub.status.busy": "2024-06-24T14:24:47.820430Z",
     "iopub.status.idle": "2024-06-24T14:24:47.829749Z",
     "shell.execute_reply": "2024-06-24T14:24:47.828132Z"
    },
    "papermill": {
     "duration": 0.024096,
     "end_time": "2024-06-24T14:24:47.832860",
     "exception": false,
     "start_time": "2024-06-24T14:24:47.808764",
     "status": "completed"
    },
    "tags": []
   },
   "outputs": [
    {
     "data": {
      "text/plain": [
       "torch.Size([1, 3, 3])"
      ]
     },
     "execution_count": 17,
     "metadata": {},
     "output_type": "execute_result"
    }
   ],
   "source": [
    "TENSOR.shape"
   ]
  },
  {
   "cell_type": "code",
   "execution_count": null,
   "id": "bdff9b20",
   "metadata": {
    "papermill": {
     "duration": 0.00866,
     "end_time": "2024-06-24T14:24:47.850696",
     "exception": false,
     "start_time": "2024-06-24T14:24:47.842036",
     "status": "completed"
    },
    "tags": []
   },
   "outputs": [],
   "source": []
  }
 ],
 "metadata": {
  "kaggle": {
   "accelerator": "none",
   "dataSources": [],
   "dockerImageVersionId": 30732,
   "isGpuEnabled": false,
   "isInternetEnabled": true,
   "language": "python",
   "sourceType": "notebook"
  },
  "kernelspec": {
   "display_name": "Python 3",
   "language": "python",
   "name": "python3"
  },
  "language_info": {
   "codemirror_mode": {
    "name": "ipython",
    "version": 3
   },
   "file_extension": ".py",
   "mimetype": "text/x-python",
   "name": "python",
   "nbconvert_exporter": "python",
   "pygments_lexer": "ipython3",
   "version": "3.10.13"
  },
  "papermill": {
   "default_parameters": {},
   "duration": 9.266233,
   "end_time": "2024-06-24T14:24:48.787770",
   "environment_variables": {},
   "exception": null,
   "input_path": "__notebook__.ipynb",
   "output_path": "__notebook__.ipynb",
   "parameters": {},
   "start_time": "2024-06-24T14:24:39.521537",
   "version": "2.5.0"
  }
 },
 "nbformat": 4,
 "nbformat_minor": 5
}
