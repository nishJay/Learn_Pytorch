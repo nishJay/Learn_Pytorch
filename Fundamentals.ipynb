{
 "cells": [
  {
   "cell_type": "code",
   "execution_count": 1,
   "id": "803d8bf2",
   "metadata": {
    "execution": {
     "iopub.execute_input": "2024-06-24T14:07:35.977586Z",
     "iopub.status.busy": "2024-06-24T14:07:35.977083Z",
     "iopub.status.idle": "2024-06-24T14:07:40.005511Z",
     "shell.execute_reply": "2024-06-24T14:07:40.003395Z"
    },
    "papermill": {
     "duration": 4.035681,
     "end_time": "2024-06-24T14:07:40.008469",
     "exception": false,
     "start_time": "2024-06-24T14:07:35.972788",
     "status": "completed"
    },
    "tags": []
   },
   "outputs": [
    {
     "name": "stdout",
     "output_type": "stream",
     "text": [
      "2.1.2+cpu\n"
     ]
    }
   ],
   "source": [
    "import torch \n",
    "print(torch.__version__)"
   ]
  },
  {
   "cell_type": "code",
   "execution_count": null,
   "id": "a7f1e10c",
   "metadata": {
    "papermill": {
     "duration": 0.001916,
     "end_time": "2024-06-24T14:07:40.012896",
     "exception": false,
     "start_time": "2024-06-24T14:07:40.010980",
     "status": "completed"
    },
    "tags": []
   },
   "outputs": [],
   "source": []
  }
 ],
 "metadata": {
  "kaggle": {
   "accelerator": "none",
   "dataSources": [],
   "dockerImageVersionId": 30732,
   "isGpuEnabled": false,
   "isInternetEnabled": true,
   "language": "python",
   "sourceType": "notebook"
  },
  "kernelspec": {
   "display_name": "Python 3",
   "language": "python",
   "name": "python3"
  },
  "language_info": {
   "codemirror_mode": {
    "name": "ipython",
    "version": 3
   },
   "file_extension": ".py",
   "mimetype": "text/x-python",
   "name": "python",
   "nbconvert_exporter": "python",
   "pygments_lexer": "ipython3",
   "version": "3.10.13"
  },
  "papermill": {
   "default_parameters": {},
   "duration": 8.8459,
   "end_time": "2024-06-24T14:07:40.938565",
   "environment_variables": {},
   "exception": null,
   "input_path": "__notebook__.ipynb",
   "output_path": "__notebook__.ipynb",
   "parameters": {},
   "start_time": "2024-06-24T14:07:32.092665",
   "version": "2.5.0"
  }
 },
 "nbformat": 4,
 "nbformat_minor": 5
}
